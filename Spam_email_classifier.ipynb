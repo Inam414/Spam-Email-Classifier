{
  "nbformat": 4,
  "nbformat_minor": 0,
  "metadata": {
    "colab": {
      "provenance": [],
      "mount_file_id": "1_BFPwlAgWWDgk8QnbunCNJFRLgrpwtEe",
      "authorship_tag": "ABX9TyPRK+WU+kG3gf7mdYDvSlcj"
    },
    "kernelspec": {
      "name": "python3",
      "display_name": "Python 3"
    },
    "language_info": {
      "name": "python"
    }
  },
  "cells": [
    {
      "cell_type": "markdown",
      "source": [
        "# **Imports**"
      ],
      "metadata": {
        "id": "kfUikJvbsBJi"
      }
    },
    {
      "cell_type": "code",
      "source": [
        "import pandas as pd\n",
        "from sklearn.model_selection import train_test_split\n",
        "from sklearn.preprocessing import StandardScaler\n",
        "from sklearn.impute import SimpleImputer\n",
        "from sklearn.ensemble import RandomForestClassifier\n",
        "from sklearn.metrics import accuracy_score, precision_score, recall_score, f1_score\n",
        "from sklearn.model_selection import cross_val_score"
      ],
      "metadata": {
        "id": "2QHU0YlRsZJa"
      },
      "execution_count": 42,
      "outputs": []
    },
    {
      "cell_type": "markdown",
      "source": [
        "# **Load and process the dataset**"
      ],
      "metadata": {
        "id": "kU2WjHEesht9"
      }
    },
    {
      "cell_type": "code",
      "source": [
        "file_path = \"/content/drive/MyDrive/Projects/emails.csv\"\n",
        "data = pd.read_csv(file_path)\n",
        "data.head()\n",
        "\n",
        "X = data.drop(columns=[\"Email No.\", \"Prediction\"])  # Separate the features (excluding the first column) and the target variable.\n",
        "y = data[\"Prediction\"]\n",
        "\n",
        "X_train, X_test, y_train, y_test = train_test_split(X, y, test_size=0.2, random_state=42)  # Split the Data into Train and Test Sets\n"
      ],
      "metadata": {
        "id": "c2cXPm7duw4_"
      },
      "execution_count": 39,
      "outputs": []
    },
    {
      "cell_type": "markdown",
      "source": [
        "# **Preprocessing**"
      ],
      "metadata": {
        "id": "Sv3TUKAevP_q"
      }
    },
    {
      "cell_type": "code",
      "source": [
        "imputer = SimpleImputer(strategy=\"mean\")  # handeling missing values\n",
        "X_train = imputer.fit_transform(X_train)\n",
        "X_test = imputer.transform(X_test)\n",
        "\n",
        "scaler = StandardScaler()                 # Scale Numerical Features\n",
        "X_train = scaler.fit_transform(X_train)\n",
        "X_test = scaler.transform(X_test)\n"
      ],
      "metadata": {
        "id": "BYA07C9TvXQA"
      },
      "execution_count": 40,
      "outputs": []
    },
    {
      "cell_type": "markdown",
      "source": [
        "# **Model Selection, Training, and Evaluation**"
      ],
      "metadata": {
        "id": "uPVNgsusvk8E"
      }
    },
    {
      "cell_type": "code",
      "source": [
        "classifiers = {\n",
        "    \"Logistic Regression\": LogisticRegression(max_iter=10000, random_state=42),\n",
        "    \"Decision Tree\": DecisionTreeClassifier(random_state=42),\n",
        "    \"Support Vector Machine\": SVC(random_state=42),\n",
        "    \"Random Forest\": RandomForestClassifier(n_estimators=100, random_state=42)\n",
        "}\n",
        "\n",
        "\n",
        "def train_and_evaluate(classifier, name):\n",
        "    classifier.fit(X_train, y_train)\n",
        "\n",
        "    train_accuracy = accuracy_score(y_train, classifier.predict(X_train))\n",
        "    test_accuracy = accuracy_score(y_test, classifier.predict(X_test))\n",
        "\n",
        "    train_precision = precision_score(y_train, classifier.predict(X_train))\n",
        "    test_precision = precision_score(y_test, classifier.predict(X_test))\n",
        "\n",
        "    train_recall = recall_score(y_train, classifier.predict(X_train))\n",
        "    test_recall = recall_score(y_test, classifier.predict(X_test))\n",
        "\n",
        "    train_f1 = f1_score(y_train, classifier.predict(X_train))\n",
        "    test_f1 = f1_score(y_test, classifier.predict(X_test))\n",
        "\n",
        "    return {\n",
        "        \"name\": name,\n",
        "        \"train_accuracy\": train_accuracy,\n",
        "        \"test_accuracy\": test_accuracy,\n",
        "        \"train_precision\": train_precision,\n",
        "        \"test_precision\": test_precision,\n",
        "        \"train_recall\": train_recall,\n",
        "        \"test_recall\": test_recall,\n",
        "        \"train_f1\": train_f1,\n",
        "        \"test_f1\": test_f1\n",
        "    }\n",
        "\n",
        "\n",
        "# Determine the best classifier\n",
        "results = []\n",
        "for name, classifier in classifiers.items():\n",
        "    results.append(train_and_evaluate(classifier, name))\n",
        "\n",
        "\n",
        "best_algorithm = max(results, key=lambda x: x[\"test_accuracy\"])    # Find the best performing algorithm\n",
        "\n",
        "\n",
        "# Print the results\n",
        "for result in results:\n",
        "    print(\"\\nClassifier:\", result[\"name\"])\n",
        "    print(\"Training Accuracy:\", result[\"train_accuracy\"])\n",
        "    print(\"Testing Accuracy:\", result[\"test_accuracy\"])\n",
        "    print(\"Training Precision:\", result[\"train_precision\"])\n",
        "    print(\"Testing Precision:\", result[\"test_precision\"])\n",
        "    print(\"Training Recall:\", result[\"train_recall\"])\n",
        "    print(\"Testing Recall:\", result[\"test_recall\"])\n",
        "    print(\"Training F1-score:\", result[\"train_f1\"])\n",
        "    print(\"Testing F1-score:\", result[\"test_f1\"])\n",
        "\n",
        "print(\"\\nBest performing algorithm:\", best_algorithm[\"name\"])\n"
      ],
      "metadata": {
        "colab": {
          "base_uri": "https://localhost:8080/"
        },
        "id": "BcppPRxJvpjP",
        "outputId": "05dab4fd-48dd-479b-97ed-b059af58b8db"
      },
      "execution_count": 41,
      "outputs": [
        {
          "output_type": "stream",
          "name": "stdout",
          "text": [
            "\n",
            "Classifier: Logistic Regression\n",
            "Training Accuracy: 0.9997582789460963\n",
            "Testing Accuracy: 0.970048309178744\n",
            "Training Precision: 0.9991701244813278\n",
            "Testing Precision: 0.9260450160771704\n",
            "Training Recall: 1.0\n",
            "Testing Recall: 0.972972972972973\n",
            "Training F1-score: 0.9995848899958489\n",
            "Testing F1-score: 0.9489291598023064\n",
            "\n",
            "Classifier: Decision Tree\n",
            "Training Accuracy: 1.0\n",
            "Testing Accuracy: 0.923671497584541\n",
            "Training Precision: 1.0\n",
            "Testing Precision: 0.8653198653198653\n",
            "Training Recall: 1.0\n",
            "Testing Recall: 0.8682432432432432\n",
            "Training F1-score: 1.0\n",
            "Testing F1-score: 0.866779089376054\n",
            "\n",
            "Classifier: Support Vector Machine\n",
            "Training Accuracy: 0.9702683103698332\n",
            "Testing Accuracy: 0.9468599033816425\n",
            "Training Precision: 0.9963269054178145\n",
            "Testing Precision: 0.9958847736625515\n",
            "Training Recall: 0.9011627906976745\n",
            "Testing Recall: 0.8175675675675675\n",
            "Training F1-score: 0.946358482337549\n",
            "Testing F1-score: 0.8979591836734693\n",
            "\n",
            "Classifier: Random Forest\n",
            "Training Accuracy: 1.0\n",
            "Testing Accuracy: 0.9777777777777777\n",
            "Training Precision: 1.0\n",
            "Testing Precision: 0.9595959595959596\n",
            "Training Recall: 1.0\n",
            "Testing Recall: 0.9628378378378378\n",
            "Training F1-score: 1.0\n",
            "Testing F1-score: 0.9612141652613827\n",
            "\n",
            "Best performing algorithm: Random Forest\n"
          ]
        }
      ]
    }
  ]
}